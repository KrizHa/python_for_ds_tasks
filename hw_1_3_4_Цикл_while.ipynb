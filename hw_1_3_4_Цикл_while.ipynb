{
 "cells": [
  {
   "cell_type": "markdown",
   "metadata": {
    "id": "15XCoYr0awZ6"
   },
   "source": [
    "#Домашнє завдання до теми \"Цикл while\""
   ]
  },
  {
   "cell_type": "markdown",
   "metadata": {
    "id": "xgCDxF5YhQSa"
   },
   "source": [
    "1. **Лічильник до заданого числа.**\n",
    "   Завдання:\n",
    "     - Створіть цикл `while`, щоб він лічив від 1 до заданого числа в змінній `limit`.\n",
    "     - Виведіть кожне число, яке проходить лічильник, на екран.\n",
    "     - В кінці виведіть повідомлення \"Кінець розрахунку!\".\n"
   ]
  },
  {
   "cell_type": "code",
   "execution_count": 2,
   "metadata": {
    "id": "wwSqYFCmiJTt"
   },
   "outputs": [],
   "source": [
    "limit = 9  # Задане число"
   ]
  },
  {
   "cell_type": "code",
   "execution_count": 3,
   "metadata": {
    "colab": {
     "base_uri": "https://localhost:8080/"
    },
    "id": "4IcibOYqj3pn",
    "outputId": "a49d7a10-eaa6-46a4-eab2-1067f3168e97"
   },
   "outputs": [
    {
     "name": "stdout",
     "output_type": "stream",
     "text": [
      "1\n",
      "2\n",
      "3\n",
      "4\n",
      "5\n",
      "6\n",
      "7\n",
      "8\n",
      "9\n",
      "Кінець розрахунку!\n"
     ]
    }
   ],
   "source": [
    "i = 1\n",
    "while i < (limit + 1):\n",
    "    print(i)\n",
    "    i += 1\n",
    "print(\"Кінець розрахунку!\")"
   ]
  },
  {
   "cell_type": "markdown",
   "metadata": {
    "id": "DlqunQnphZ9s"
   },
   "source": [
    "2. **Пошук першого парного числа.** Завдання:\n",
    "     - Створіть цикл `while`, щоб знайти перше парне число після заданого числа `start`.\n",
    "     - Знайдіть та виведіть перше парне число.\n"
   ]
  },
  {
   "cell_type": "code",
   "execution_count": 16,
   "metadata": {
    "id": "3CC3-gNJiW6X"
   },
   "outputs": [],
   "source": [
    "start = 7  # Задане число"
   ]
  },
  {
   "cell_type": "code",
   "execution_count": 36,
   "metadata": {
    "colab": {
     "base_uri": "https://localhost:8080/"
    },
    "id": "5M8Ly9_Lj4-t",
    "outputId": "94836416-64e5-4269-8e6d-324776242571"
   },
   "outputs": [
    {
     "name": "stdout",
     "output_type": "stream",
     "text": [
      "8\n"
     ]
    }
   ],
   "source": [
    "i = start\n",
    "while i>=start:\n",
    "    if i % 2 != 0:\n",
    "        i += 1\n",
    "    print(i)\n",
    "    break\n",
    "\n"
   ]
  },
  {
   "cell_type": "code",
   "execution_count": null,
   "metadata": {
    "id": "0bK_1QGhnYdX"
   },
   "outputs": [],
   "source": []
  },
  {
   "cell_type": "markdown",
   "metadata": {
    "id": "OlhKezZYiQJ2"
   },
   "source": [
    "\n",
    "3. **Обчислення факторіалу.**   \n",
    "  Факторіал числа - це добуток всіх натуральних чисел від 1 до цього числа включно. Наприклад, факторіал числа 5 (позначається як 5!) дорівнює `1 * 2 * 3 * 4 * 5 = 120`.\n",
    "\n",
    "  Завдання:  \n",
    "      - Обчисліть факторіал заданого числа, використовуючи цикл `while`.  \n",
    "      - Задайте деяке число для обчислення факторіалу у змінній `num`.  \n",
    "      - Виведіть обчислений факторіал на екран.  \n"
   ]
  },
  {
   "cell_type": "code",
   "execution_count": 1,
   "metadata": {
    "colab": {
     "base_uri": "https://localhost:8080/"
    },
    "id": "s0JKm0Wtj5s9",
    "outputId": "d72073a6-cbe5-4118-a32d-458bc7917bf2"
   },
   "outputs": [
    {
     "name": "stdout",
     "output_type": "stream",
     "text": [
      "24\n"
     ]
    }
   ],
   "source": [
    "num = 4\n",
    "fac = 1\n",
    "\n",
    "while num > 1:\n",
    "    fac = fac * num\n",
    "    num = num - 1\n",
    "\n",
    "print(fac)"
   ]
  }
 ],
 "metadata": {
  "colab": {
   "provenance": []
  },
  "kernelspec": {
   "display_name": "Python 3 (ipykernel)",
   "language": "python",
   "name": "python3"
  },
  "language_info": {
   "codemirror_mode": {
    "name": "ipython",
    "version": 3
   },
   "file_extension": ".py",
   "mimetype": "text/x-python",
   "name": "python",
   "nbconvert_exporter": "python",
   "pygments_lexer": "ipython3",
   "version": "3.11.5"
  }
 },
 "nbformat": 4,
 "nbformat_minor": 1
}
